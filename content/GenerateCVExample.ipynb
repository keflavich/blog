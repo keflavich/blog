{
 "metadata": {
  "name": "GenerateCVExample"
 },
 "nbformat": 3,
 "nbformat_minor": 0,
 "worksheets": [
  {
   "cells": [
    {
     "cell_type": "markdown",
     "metadata": {},
     "source": [
      "Generating a CV using the ADS Labs API\n",
      "======================================"
     ]
    },
    {
     "cell_type": "raw",
     "metadata": {},
     "source": [
      ":date: 2013-09-21\n",
      ":author: Adam (keflavich@gmail.com)\n",
      ":tags: python"
     ]
    },
    {
     "cell_type": "markdown",
     "metadata": {},
     "source": [
      "[ [Source code related to this\n",
      "post](https://github.com/keflavich/generate_cv) ] [ [Notebook\n",
      "form](http://nbviewer.ipython.org/urls/raw.github.com/keflavich/generate_cv/master/examples/GenerateCVExample.ipynb)\n",
      "]\n"
     ]
    },
    {
     "cell_type": "markdown",
     "metadata": {
      "author": "Adam <keflavich@gmail.com>",
      "date": "2013-09-21",
      "tags": "python"
     },
     "source": [
      "At [.astronomy](http://dotastronomy.com/) this past week, the keynote speaker was [Alberto Accomazzi](https://www.cfa.harvard.edu/~alberto/),\n",
      "introducing ADS Labs and [ADS 2.0](http://labs.adsabs.harvard.edu/adsabs/), which are really quite impressive.\n",
      "\n",
      "I was inspired to use ADS Labs to help me auto-generate a nicely formatted CV\n",
      "for myself.  I used [Andy Casey's](https://twitter.com/astrowizicist) [ADS-python](https://github.com/andycasey/ads-python) as a starting point: he introduces\n",
      "a useful convention of storing your [ADS API Key](https://github.com/adsabs/adsabs-dev-api#signup--access):\n"
     ]
    },
    {
     "cell_type": "code",
     "collapsed": false,
     "input": [
      "import os\n",
      "\n",
      "def get_dev_key():\n",
      "    \"\"\" A convenience function for accessing a system-wide ADS Developer's Key \"\"\"\n",
      "\n",
      "    ads_dev_key_filename = os.path.abspath(os.path.expanduser('~/.ads/dev_key'))\n",
      "\n",
      "    if os.path.exists(ads_dev_key_filename):\n",
      "        with open(ads_dev_key_filename, 'r') as fp:\n",
      "            dev_key = fp.readline().rstrip()\n",
      "\n",
      "        return dev_key\n",
      "\n",
      "    if 'ADS_DEV_KEY' in os.environ:\n",
      "        return os.environ['ADS_DEV_KEY']\n",
      "\n",
      "    raise IOError(\"no ADS API key found in ~/.ads/dev_key\")"
     ],
     "language": "python",
     "metadata": {},
     "outputs": [],
     "prompt_number": 1
    },
    {
     "cell_type": "markdown",
     "metadata": {},
     "source": [
      "We'll use `requests` to send the request to ADS, then `json` to parse the data."
     ]
    },
    {
     "cell_type": "code",
     "collapsed": false,
     "input": [
      "import requests\n",
      "import json"
     ],
     "language": "python",
     "metadata": {},
     "outputs": [],
     "prompt_number": 2
    },
    {
     "cell_type": "markdown",
     "metadata": {},
     "source": [
      "We then query the database using a keyword query (parameter `q`) specifying the author.  Other required parameters are the API key (`dev_key`) and a filter to select only astronomy articles.  The maximum number of rows returned in the API is 200 right now, which I have set (the default is 10 or 20)."
     ]
    },
    {
     "cell_type": "code",
     "collapsed": false,
     "input": [
      "response = requests.post('http://adslabs.org/adsabs/api/search/',\n",
      "                         params={'q':'author:ginsburg, a',\n",
      "                                 'dev_key':get_dev_key(),\n",
      "                                 'rows':200,\n",
      "                                 'filter':'database:astronomy'})"
     ],
     "language": "python",
     "metadata": {},
     "outputs": [],
     "prompt_number": 3
    },
    {
     "cell_type": "code",
     "collapsed": false,
     "input": [
      "J = response.json()\n",
      "J.keys()"
     ],
     "language": "python",
     "metadata": {},
     "outputs": [
      {
       "output_type": "pyout",
       "prompt_number": 4,
       "text": [
        "[u'meta', u'results']"
       ]
      }
     ],
     "prompt_number": 4
    },
    {
     "cell_type": "markdown",
     "metadata": {},
     "source": [
      "The JSON 'meta' key is just metadata about the query, include the number of matches and execution time."
     ]
    },
    {
     "cell_type": "code",
     "collapsed": false,
     "input": [
      "J['meta']"
     ],
     "language": "python",
     "metadata": {},
     "outputs": [
      {
       "output_type": "pyout",
       "prompt_number": 5,
       "text": [
        "{u'api-version': u'0.1',\n",
        " u'count': 54,\n",
        " u'hits': 54,\n",
        " u'qtime': 5,\n",
        " u'query': u'author:ginsburg, a'}"
       ]
      }
     ],
     "prompt_number": 5
    },
    {
     "cell_type": "markdown",
     "metadata": {},
     "source": [
      "The 'results' key includes what we're actually interested in, under another key 'docs'."
     ]
    },
    {
     "cell_type": "code",
     "collapsed": false,
     "input": [
      "J['results'].keys()"
     ],
     "language": "python",
     "metadata": {},
     "outputs": [
      {
       "output_type": "pyout",
       "prompt_number": 6,
       "text": [
        "[u'docs']"
       ]
      }
     ],
     "prompt_number": 6
    },
    {
     "cell_type": "code",
     "collapsed": false,
     "input": [
      "datalist = J['results']['docs']\n",
      "type(datalist), len(datalist)"
     ],
     "language": "python",
     "metadata": {},
     "outputs": [
      {
       "output_type": "pyout",
       "prompt_number": 7,
       "text": [
        "(list, 54)"
       ]
      }
     ],
     "prompt_number": 7
    },
    {
     "cell_type": "markdown",
     "metadata": {},
     "source": [
      "`datalist` is a list of the retrieved bibliographic entries.  "
     ]
    },
    {
     "cell_type": "code",
     "collapsed": false,
     "input": [
      "datalist[0].keys()"
     ],
     "language": "python",
     "metadata": {},
     "outputs": [
      {
       "output_type": "pyout",
       "prompt_number": 8,
       "text": [
        "[u'bibcode',\n",
        " u'keyword',\n",
        " u'pubdate',\n",
        " u'title',\n",
        " u'property',\n",
        " u'aff',\n",
        " u'author',\n",
        " u'citation_count',\n",
        " u'pub',\n",
        " u'page',\n",
        " u'volume',\n",
        " u'database',\n",
        " u'doi',\n",
        " u'year',\n",
        " u'abstract',\n",
        " u'identifier',\n",
        " u'issue',\n",
        " u'id']"
       ]
      }
     ],
     "prompt_number": 8
    },
    {
     "cell_type": "markdown",
     "metadata": {},
     "source": [
      "At this point, most of the remaining work is building up a nicely formatted output.  We'll start with a web-specific example, using HTML unordered lists.\n",
      "\n",
      "In this example, we'll make a list item that creates a hyperlink for the author names and uses a reasonably standard bibliographic format:\n",
      "\n",
      "    Authors Month, Year, Journal\n",
      "    Title"
     ]
    },
    {
     "cell_type": "code",
     "collapsed": false,
     "input": [
      "fmt = (u'                '\n",
      "u'<li><a class=\"norm\" href=\"http://adsabs.harvard.edu/abs/{adsbibid}\">{creator}</a>'\n",
      "u' {month}, <b>{year}</b> {journal}\\n'\n",
      "u'                <br>&nbsp;&nbsp;&nbsp;{titlestring}')"
     ],
     "language": "python",
     "metadata": {},
     "outputs": [],
     "prompt_number": 9
    },
    {
     "cell_type": "markdown",
     "metadata": {},
     "source": [
      "We need to do a little data wrangling to get the individual JSON entries into the appropriate format:"
     ]
    },
    {
     "cell_type": "code",
     "collapsed": false,
     "input": [
      "def wrangle(data, authorname='Ginsburg'):\n",
      "    \"\"\" Create new fields from the input data to insert into the format string \"\"\"\n",
      "    data['month'] = data['pubdate'][5:7]\n",
      "    # Generally, the last identifier is the published version, \n",
      "    # while the first is an arXiv identifier\n",
      "    # (data['identifier'] is a list)\n",
      "    data['adsbibid'] = data['identifier'][-1]\n",
      "    # data['title'] & ['pub'] are also lists\n",
      "    data['titlestring'] = data['title'][0]\n",
      "    data['journal'] = data['pub'][0]\n",
      "    # This trick bolds my name in the list of authors\n",
      "    data['authors'] = ['<b>{}</b>'.format(x) if authorname in x else x for x in data['author']]\n",
      "    # Separate names by semicolons\n",
      "    data['creator'] = u\"; \".join(data['authors'])\n",
      "    return data\n"
     ],
     "language": "python",
     "metadata": {},
     "outputs": [],
     "prompt_number": 10
    },
    {
     "cell_type": "markdown",
     "metadata": {},
     "source": [
      "The return from `wrangle` is a dict with new keys that match the keywords in the format string.  The python `string.format` method will nicely ignore any extra keywords that we're uninterested in."
     ]
    },
    {
     "cell_type": "code",
     "collapsed": false,
     "input": [
      "fmt.format(**wrangle(datalist[0]))"
     ],
     "language": "python",
     "metadata": {},
     "outputs": [
      {
       "output_type": "pyout",
       "prompt_number": 11,
       "text": [
        "u'                <li><a class=\"norm\" href=\"http://adsabs.harvard.edu/abs/2013ApJ...773..102F\">Fallscheer, C.; Reid, M. A.; Di Francesco, J.; Martin, P. G.; Hill, T.; Hennemann, M.; Nguyen-Luong, Q.; Motte, F.; Men\\'shchikov, A.; Andr\\xe9, Ph.; Ward-Thompson, D.; Griffin, M.; Kirk, J.; Konyves, V.; Rygl, K. L. J.; Sadavoy, S.; Sauvage, M.; Schneider, N.; Anderson, L. D.; Benedettini, M.; Bernard, J. -P.; Bontemps, S.; <b>Ginsburg, A.</b>; Molinari, S.; Polychroni, D.; Rivera-Ingraham, A.; Roussel, H.; Testi, L.; White, G.; Williams, J. P.; Wilson, C. D.; Wong, M.; Zavagno, A.</a> 08, <b>2013</b> T\\n                <br>&nbsp;&nbsp;&nbsp;Herschel Reveals Massive Cold Clumps in NGC\\xa07538'"
       ]
      }
     ],
     "prompt_number": 11
    },
    {
     "cell_type": "markdown",
     "metadata": {},
     "source": [
      "Now to show it in the notebook..."
     ]
    },
    {
     "cell_type": "code",
     "collapsed": false,
     "input": [
      "import IPython.display\n",
      "IPython.display.HTML(fmt.format(**wrangle(datalist[0])))"
     ],
     "language": "python",
     "metadata": {},
     "outputs": [
      {
       "html": [
        "                <li><a class=\"norm\" href=\"http://adsabs.harvard.edu/abs/2013ApJ...773..102F\">Fallscheer, C.; Reid, M. A.; Di Francesco, J.; Martin, P. G.; Hill, T.; Hennemann, M.; Nguyen-Luong, Q.; Motte, F.; Men'shchikov, A.; Andr\u00e9, Ph.; Ward-Thompson, D.; Griffin, M.; Kirk, J.; Konyves, V.; Rygl, K. L. J.; Sadavoy, S.; Sauvage, M.; Schneider, N.; Anderson, L. D.; Benedettini, M.; Bernard, J. -P.; Bontemps, S.; <b>Ginsburg, A.</b>; Molinari, S.; Polychroni, D.; Rivera-Ingraham, A.; Roussel, H.; Testi, L.; White, G.; Williams, J. P.; Wilson, C. D.; Wong, M.; Zavagno, A.</a> 08, <b>2013</b> T\n",
        "                <br>&nbsp;&nbsp;&nbsp;Herschel Reveals Massive Cold Clumps in NGC\u00a07538"
       ],
       "output_type": "pyout",
       "prompt_number": 12,
       "text": [
        "<IPython.core.display.HTML at 0x105e98510>"
       ]
      }
     ],
     "prompt_number": 12
    },
    {
     "cell_type": "markdown",
     "metadata": {},
     "source": [
      "You can make a complete bibliography by looping over a few entries.  The ordered list (`<ol>`) tag makes a numbered list."
     ]
    },
    {
     "cell_type": "code",
     "collapsed": false,
     "input": [
      "html = \"<ol>\" + \"\\n\".join(fmt.format(**wrangle(datalist[ii])) for ii in xrange(3)) + \"</ol>\"\n",
      "IPython.display.HTML(html)"
     ],
     "language": "python",
     "metadata": {},
     "outputs": [
      {
       "html": [
        "<ol>                <li><a class=\"norm\" href=\"http://adsabs.harvard.edu/abs/2013ApJ...773..102F\">Fallscheer, C.; Reid, M. A.; Di Francesco, J.; Martin, P. G.; Hill, T.; Hennemann, M.; Nguyen-Luong, Q.; Motte, F.; Men'shchikov, A.; Andr\u00e9, Ph.; Ward-Thompson, D.; Griffin, M.; Kirk, J.; Konyves, V.; Rygl, K. L. J.; Sadavoy, S.; Sauvage, M.; Schneider, N.; Anderson, L. D.; Benedettini, M.; Bernard, J. -P.; Bontemps, S.; <b>Ginsburg, A.</b>; Molinari, S.; Polychroni, D.; Rivera-Ingraham, A.; Roussel, H.; Testi, L.; White, G.; Williams, J. P.; Wilson, C. D.; Wong, M.; Zavagno, A.</a> 08, <b>2013</b> T\n",
        "                <br>&nbsp;&nbsp;&nbsp;Herschel Reveals Massive Cold Clumps in NGC\u00a07538\n",
        "                <li><a class=\"norm\" href=\"http://adsabs.harvard.edu/abs/arXiv:1307.6212\">The Astropy Collaboration; Robitaille, Thomas P.; Tollerud, Erik J.; Greenfield, Perry; Droettboom, Michael; Bray, Erik; Aldcroft, Tom; Davis, Matt; <b>Ginsburg, Adam</b>; Price-Whelan, Adrian M.; Kerzendorf, Wolfgang E.; Conley, Alexander; Crighton, Neil; Barbary, Kyle; Muna, Demitri; Ferguson, Henry; Grollier, Fr\u00e9d\u00e9ric; Parikh, Madhura M.; Nair, Prasanth H.; G\u00fcnther, Hans M.; Deil, Christoph; Woillez, Julien; Conseil, Simon; Kramer, Roban; Turner, James E. H.; Singer, Leo; Fox, Ryan; Weaver, Benjamin A.; Zabalza, Victor; Edwards, Zachary I.; Azalee Bostroem, K.; Burke, D. J.; Casey, Andrew R.; Crawford, Steven M.; Dencheva, Nadia; Ely, Justin; Jenness, Tim; Labrie, Kathleen; Lian Lim, Pey; Pierfederici, Francesco; Pontzen, Andrew; Ptak, Andy; Refsdal, Brian; Servillat, Mathieu; Streicher, Ole</a> 07, <b>2013</b> A\n",
        "                <br>&nbsp;&nbsp;&nbsp;Astropy: A Community Python Package for Astronomy\n",
        "                <li><a class=\"norm\" href=\"http://adsabs.harvard.edu/abs/2013ApJ...770...39E\">Ellsworth-Bowers, Timothy P.; Glenn, Jason; Rosolowsky, Erik; Mairs, Steven; Evans, Neal J., II; Battersby, Cara; <b>Ginsburg, Adam</b>; Shirley, Yancy L.; Bally, John</a> 06, <b>2013</b> T\n",
        "                <br>&nbsp;&nbsp;&nbsp;The Bolocam Galactic Plane Survey. VIII. A Mid-infrared Kinematic Distance Discrimination Method</ol>"
       ],
       "output_type": "pyout",
       "prompt_number": 13,
       "text": [
        "<IPython.core.display.HTML at 0x105eb0050>"
       ]
      }
     ],
     "prompt_number": 13
    },
    {
     "cell_type": "markdown",
     "metadata": {},
     "source": [
      "If you want to make sure you only include refereed articles, use the 'property' tag.  "
     ]
    },
    {
     "cell_type": "code",
     "collapsed": false,
     "input": [
      "print ['REFEREED' in d['property'] for d in datalist]"
     ],
     "language": "python",
     "metadata": {},
     "outputs": [
      {
       "output_type": "stream",
       "stream": "stdout",
       "text": [
        "[True, False, True, False, False, False, True, True, False, False, False, False, True, True, True, False, False, True, True, False, False, True, True, True, False, False, False, False, True, False, False, True, True, True, True, True, True, False, False, False, False, False, False, True, True, False, False, False, False, False, True, False, False, True]\n"
       ]
      }
     ],
     "prompt_number": 14
    },
    {
     "cell_type": "markdown",
     "metadata": {},
     "source": [
      "And don't forget that you can also include the citation count:"
     ]
    },
    {
     "cell_type": "code",
     "collapsed": false,
     "input": [
      "print \"\\n\".join([\"{} {}: {}\".format(d['author'][0],d['year'],d['citation_count']) \n",
      "                for d in datalist \n",
      "                if 'citation_count' in d and 'REFEREED' in d['property']])"
     ],
     "language": "python",
     "metadata": {},
     "outputs": [
      {
       "output_type": "stream",
       "stream": "stdout",
       "text": [
        "Fallscheer, C. 2013: 0\n",
        "Ellsworth-Bowers, Timothy P. 2013: 0\n",
        "Smith, Nathan 2013: 0\n",
        "Harvey, Paul M. 2013: 2\n",
        "Bressert, E. 2012: 6\n",
        "Ginsburg, A. 2012: 4\n",
        "Bally, John 2012: 0\n",
        "Ginsburg, Adam 2011: 5\n",
        "Battersby, C. 2011: 13\n",
        "Ginsburg, Adam 2011: 3\n",
        "Schlingman, Wayne M. 2011: 10\n",
        "van Aarle, E. 2011: 6\n",
        "Aguirre, James E. 2011: 62\n",
        "Yan, Chi-Hung 2010: 5\n",
        "Bally, John 2010: 27\n",
        "Battersby, Cara 2010: 24\n",
        "Bally, J. 2010: 16\n",
        "Dunham, Miranda K. 2010: 24\n",
        "Rosolowsky, Erik 2010: 69\n",
        "Ginsburg, Adam G. 2009: 9\n",
        "Rubin, D. 2009: 20\n",
        "van de Steene, G. C. 2008: 4\n",
        "Golitsyn, G. S. 1985: 4\n"
       ]
      }
     ],
     "prompt_number": 15
    },
    {
     "cell_type": "markdown",
     "metadata": {},
     "source": [
      "Wishlist\n",
      "--------\n",
      "\n",
      "There are a few other features that would be nice to add to the CV, but some are not yet well-supported.\n",
      "\n",
      "1. You can get the full name, but right now not the short name ('bibstem'), of the journal\n",
      "2. The bibtex entry is important for generating tex versions of CVs.  Currently, it is not possible to completely reproduce one, largely because of point #1.\n",
      "\n",
      "However, the ADS folks will certainly change this soon.  You can find out if they have by querying their API settings.  If the query below returns \"True\", then you can access the bibstem."
     ]
    },
    {
     "cell_type": "code",
     "collapsed": false,
     "input": [
      "permissions_response = requests.post('http://adslabs.org/adsabs/api/settings/',params={'dev_key':get_dev_key()})\n",
      "permissions = permissions_response.json()\n",
      "'bibstem' in permissions['allowed_fields']"
     ],
     "language": "python",
     "metadata": {},
     "outputs": [
      {
       "output_type": "pyout",
       "prompt_number": 16,
       "text": [
        "False"
       ]
      }
     ],
     "prompt_number": 16
    },
    {
     "cell_type": "markdown",
     "metadata": {},
     "source": [
      "In the meantime, you can get most of the way there.  We'll create \"Article\" entries for any articles or eprints and ignore abstracts (e.g., conference abstracts).  I don't have any books, but for others that might be useful.\n",
      "\n",
      "The approach we'll use is also a good way to reject unwanted articles in the HTML bibliography above."
     ]
    },
    {
     "cell_type": "code",
     "collapsed": false,
     "input": [
      "bibfmt = u\"\"\"@article{{{tagname},\n",
      "abstract={{{abstract}}},\n",
      "author={{{bibtexauthors}}},\n",
      "month={{{month}}},\n",
      "pages={{{page}}},\n",
      "title={{{titlestring}}},\n",
      "year={{{year}}},\n",
      "volume={{{volume}}}\n",
      "}}\"\"\""
     ],
     "language": "python",
     "metadata": {},
     "outputs": [],
     "prompt_number": 17
    },
    {
     "cell_type": "markdown",
     "metadata": {},
     "source": [
      "Of course, it's necessary to wrangle the data again for the appropriate author list formatting for bibtex:"
     ]
    },
    {
     "cell_type": "code",
     "collapsed": false,
     "input": [
      "def wrangleauthors(authorlist):\n",
      "    \"\"\" Fit the author list into a bibtex-friendly format.  \n",
      "    Not the cleanest hack, since we need to allow for single-name\n",
      "    authors (e.g., astropy collaboration, Planck collaboration, etc.)\n",
      "    The triple braces are needed because TeX uses them\"\"\"\n",
      "    splita = [[b.strip() for b in a.split(\",\")] for a in authorlist]\n",
      "    bracketed = [u'{{{}}}, {}'.format(a[0], a[1].replace(\" \",\"~\"))\n",
      "                 if len(a) > 1\n",
      "                 else u'{{{}}}'.format(a[0])\n",
      "                 for a in splita]\n",
      "    return u\" and \".join(bracketed)"
     ],
     "language": "python",
     "metadata": {},
     "outputs": [],
     "prompt_number": 18
    },
    {
     "cell_type": "code",
     "collapsed": false,
     "input": [
      "wrangleauthors(datalist[0]['author'])"
     ],
     "language": "python",
     "metadata": {},
     "outputs": [
      {
       "output_type": "pyout",
       "prompt_number": 19,
       "text": [
        "u\"{Fallscheer}, C. and {Reid}, M.~A. and {Di Francesco}, J. and {Martin}, P.~G. and {Hill}, T. and {Hennemann}, M. and {Nguyen-Luong}, Q. and {Motte}, F. and {Men'shchikov}, A. and {Andr\\xe9}, Ph. and {Ward-Thompson}, D. and {Griffin}, M. and {Kirk}, J. and {Konyves}, V. and {Rygl}, K.~L.~J. and {Sadavoy}, S. and {Sauvage}, M. and {Schneider}, N. and {Anderson}, L.~D. and {Benedettini}, M. and {Bernard}, J.~-P. and {Bontemps}, S. and {Ginsburg}, A. and {Molinari}, S. and {Polychroni}, D. and {Rivera-Ingraham}, A. and {Roussel}, H. and {Testi}, L. and {White}, G. and {Williams}, J.~P. and {Wilson}, C.~D. and {Wong}, M. and {Zavagno}, A.\""
       ]
      }
     ],
     "prompt_number": 19
    },
    {
     "cell_type": "markdown",
     "metadata": {},
     "source": [
      "Now we can start looping through, performing checks for article status, and making bibentries:"
     ]
    },
    {
     "cell_type": "code",
     "collapsed": false,
     "input": [
      "for d in datalist:\n",
      "    d['bibtexauthors'] = wrangleauthors(d['author'])\n",
      "    d['tagname'] = d['author'][0].split()[0].strip(\",\") + d['year']"
     ],
     "language": "python",
     "metadata": {},
     "outputs": [],
     "prompt_number": 20
    },
    {
     "cell_type": "code",
     "collapsed": false,
     "input": [
      "bibdata = \"\"\n",
      "for d in datalist:\n",
      "    if 'ARTICLE' in d['property'] or 'EPRINT' in d['property']:\n",
      "        bibdata += bibfmt.format(**d)"
     ],
     "language": "python",
     "metadata": {},
     "outputs": [
      {
       "ename": "KeyError",
       "evalue": "u'volume'",
       "output_type": "pyerr",
       "traceback": [
        "\u001b[0;31m---------------------------------------------------------------------------\u001b[0m\n\u001b[0;31mKeyError\u001b[0m                                  Traceback (most recent call last)",
        "\u001b[0;32m<ipython-input-21-9c55bfea9ea0>\u001b[0m in \u001b[0;36m<module>\u001b[0;34m()\u001b[0m\n\u001b[1;32m      2\u001b[0m \u001b[0;32mfor\u001b[0m \u001b[0md\u001b[0m \u001b[0;32min\u001b[0m \u001b[0mdatalist\u001b[0m\u001b[0;34m:\u001b[0m\u001b[0;34m\u001b[0m\u001b[0m\n\u001b[1;32m      3\u001b[0m     \u001b[0;32mif\u001b[0m \u001b[0;34m'ARTICLE'\u001b[0m \u001b[0;32min\u001b[0m \u001b[0md\u001b[0m\u001b[0;34m[\u001b[0m\u001b[0;34m'property'\u001b[0m\u001b[0;34m]\u001b[0m \u001b[0;32mor\u001b[0m \u001b[0;34m'EPRINT'\u001b[0m \u001b[0;32min\u001b[0m \u001b[0md\u001b[0m\u001b[0;34m[\u001b[0m\u001b[0;34m'property'\u001b[0m\u001b[0;34m]\u001b[0m\u001b[0;34m:\u001b[0m\u001b[0;34m\u001b[0m\u001b[0m\n\u001b[0;32m----> 4\u001b[0;31m         \u001b[0mbibdata\u001b[0m \u001b[0;34m+=\u001b[0m \u001b[0mbibfmt\u001b[0m\u001b[0;34m.\u001b[0m\u001b[0mformat\u001b[0m\u001b[0;34m(\u001b[0m\u001b[0;34m**\u001b[0m\u001b[0md\u001b[0m\u001b[0;34m)\u001b[0m\u001b[0;34m\u001b[0m\u001b[0m\n\u001b[0m",
        "\u001b[0;31mKeyError\u001b[0m: u'volume'"
       ]
      }
     ],
     "prompt_number": 21
    },
    {
     "cell_type": "markdown",
     "metadata": {},
     "source": [
      "Actually, this doesn't work.  We'll need to try something else... the ADS folks will probably provide."
     ]
    }
   ],
   "metadata": {}
  }
 ]
}